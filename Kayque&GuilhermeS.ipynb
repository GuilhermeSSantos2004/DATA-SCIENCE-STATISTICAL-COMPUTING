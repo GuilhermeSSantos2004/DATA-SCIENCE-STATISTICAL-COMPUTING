{
 "cells": [
  {
   "cell_type": "code",
   "execution_count": 17,
   "id": "2b2c5abd-1127-4d39-a941-7b95143d70e3",
   "metadata": {},
   "outputs": [],
   "source": [
    "import pandas as pd\n",
    "import matplotlib.pyplot as plt"
   ]
  },
  {
   "cell_type": "code",
   "execution_count": 18,
   "id": "656b8826-f125-499d-8955-92d971f80430",
   "metadata": {},
   "outputs": [],
   "source": [
    "df = pd.read_csv('Airbnb_Data.csv')"
   ]
  },
  {
   "cell_type": "code",
   "execution_count": null,
   "id": "c42c9540-24a7-469c-8bc8-e1d39f081dc4",
   "metadata": {},
   "outputs": [],
   "source": [
    "#1.1.1\n",
    "media_bathrooms = df['bathrooms'].mean()\n",
    "mediana_bathrooms = df['bathrooms'].median()\n",
    "display(media_bathrooms)\n",
    "display(mediana_bathrooms)\n",
    "display(len(df['bathrooms']))"
   ]
  },
  {
   "cell_type": "code",
   "execution_count": null,
   "id": "31fe6741-427d-4243-93ac-d624a7d5045e",
   "metadata": {},
   "outputs": [],
   "source": [
    "#2.1.1\n",
    "media_number_of_reviews = df['number_of_reviews'].mean()\n",
    "mediana_number_of_reviews = df['number_of_reviews'].median()\n",
    "display(media_number_of_reviews)\n",
    "display(mediana_number_of_reviews)\n",
    "df['number_of_reviews'].hist()\n",
    "plt.xlabel('Número de Revisões')\n",
    "plt.ylabel('Frequência')\n",
    "plt.title('Distribuição do Número de Revisões')\n",
    "plt.show()"
   ]
  },
  {
   "cell_type": "code",
   "execution_count": null,
   "id": "982163a8-9464-4723-9d26-7829de5dc642",
   "metadata": {},
   "outputs": [],
   "source": [
    "#3.1.1\n",
    "media_accommodates  = df['accommodates'].mean()\n",
    "mediana_accommodates  = df['accommodates'].median()\n",
    "display(media_accommodates)\n",
    "display(mediana_accommodates)\n",
    "df['accommodates'].hist()\n",
    "plt.xlabel('Acomodações')\n",
    "plt.ylabel('Frequência')\n",
    "plt.title('Distribuição de Acomodações')\n",
    "plt.show()"
   ]
  },
  {
   "cell_type": "code",
   "execution_count": 36,
   "id": "62ec1658-9521-4b63-85da-f957537be5b0",
   "metadata": {},
   "outputs": [
    {
     "data": {
      "text/html": [
       "<div>\n",
       "<style scoped>\n",
       "    .dataframe tbody tr th:only-of-type {\n",
       "        vertical-align: middle;\n",
       "    }\n",
       "\n",
       "    .dataframe tbody tr th {\n",
       "        vertical-align: top;\n",
       "    }\n",
       "\n",
       "    .dataframe thead th {\n",
       "        text-align: right;\n",
       "    }\n",
       "</style>\n",
       "<table border=\"1\" class=\"dataframe\">\n",
       "  <thead>\n",
       "    <tr style=\"text-align: right;\">\n",
       "      <th>room_type</th>\n",
       "      <th>Entire home/apt</th>\n",
       "      <th>Private room</th>\n",
       "      <th>Shared room</th>\n",
       "    </tr>\n",
       "    <tr>\n",
       "      <th>host_identity_verified</th>\n",
       "      <th></th>\n",
       "      <th></th>\n",
       "      <th></th>\n",
       "    </tr>\n",
       "  </thead>\n",
       "  <tbody>\n",
       "    <tr>\n",
       "      <th>f</th>\n",
       "      <td>12336</td>\n",
       "      <td>10933</td>\n",
       "      <td>906</td>\n",
       "    </tr>\n",
       "    <tr>\n",
       "      <th>t</th>\n",
       "      <td>28887</td>\n",
       "      <td>19606</td>\n",
       "      <td>1255</td>\n",
       "    </tr>\n",
       "  </tbody>\n",
       "</table>\n",
       "</div>"
      ],
      "text/plain": [
       "room_type               Entire home/apt  Private room  Shared room\n",
       "host_identity_verified                                            \n",
       "f                                 12336         10933          906\n",
       "t                                 28887         19606         1255"
      ]
     },
     "metadata": {},
     "output_type": "display_data"
    },
    {
     "name": "stdout",
     "output_type": "stream",
     "text": [
      "Tabela de Contingência com Proporções para Hosts Verificados (t):\n",
      "                 Proporção (t)\n",
      "room_type                     \n",
      "Entire home/apt      58.066656\n",
      "Private room         39.410630\n",
      "Shared room           2.522714\n",
      "Tabela de Contingência com Proporções para Hosts Verificados (f):\n",
      "                 Proporção (f)\n",
      "room_type                     \n",
      "Entire home/apt      51.027921\n",
      "Private room         45.224405\n",
      "Shared room           3.747673\n"
     ]
    }
   ],
   "source": [
    "#4\n",
    "display(pd.crosstab(df['host_identity_verified'],df['room_type']))\n",
    "# Criando a tabela de contingência\n",
    "data = {\n",
    "    'room_type': ['Entire home/apt', 'Private room', 'Shared room'],\n",
    "    't': [28887, 19606, 1255],  # Verificado\n",
    "    'f': [12336, 10933, 906]    # Não verificado\n",
    "}\n",
    "\n",
    "# Criando um DataFrame a partir dos dados\n",
    "df_contingency = pd.DataFrame(data)\n",
    "df_contingency.set_index('room_type', inplace=True)\n",
    "\n",
    "# Calculando as proporções para hosts verificados (t)\n",
    "df_contingency['Proporção (t)'] = (df_contingency['t'] / df_contingency['t'].sum())*100\n",
    "df_contingency['Proporção (f)'] = (df_contingency['f'] / df_contingency['f'].sum())*100\n",
    "\n",
    "# Exibindo a tabela de contingência com as proporções\n",
    "print(\"Tabela de Contingência com Proporções para Hosts Verificados (t):\")\n",
    "print(df_contingency[['Proporção (t)']])\n",
    "print(\"Tabela de Contingência com Proporções para Hosts Verificados (f):\")\n",
    "print(df_contingency[['Proporção (f)']])"
   ]
  },
  {
   "cell_type": "code",
   "execution_count": 37,
   "id": "70155528-5b6e-48a2-9b06-b43a02e5fd98",
   "metadata": {},
   "outputs": [
    {
     "data": {
      "image/png": "[encoded data removed]",
      "text/plain": [
       "<Figure size 800x600 with 1 Axes>"
      ]
     },
     "metadata": {},
     "output_type": "display_data"
    }
   ],
   "source": [
    "#5\n",
    "# Contagem dos registros para cada valor possível de room_type\n",
    "room_type_counts = df['room_type'].value_counts()\n",
    " \n",
    "# Configuração das cores\n",
    "colors = ['red', 'green', 'blue']\n",
    " \n",
    "# Criar o gráfico de barras\n",
    "plt.figure(figsize=(8, 6))\n",
    "plt.bar(room_type_counts.index, room_type_counts.values, color=colors)\n",
    " \n",
    "# Título e rótulos dos eixos\n",
    "plt.title('Distribuição de room_type')\n",
    "plt.xlabel('Tipo de Sala')\n",
    "plt.ylabel('Número de Registros')\n",
    " \n",
    "# Mostrar o gráfico\n",
    "plt.show()"
   ]
  },
  {
   "cell_type": "code",
   "execution_count": null,
   "id": "1f2422f9-7bf6-4646-9703-fadf6a1268f3",
   "metadata": {},
   "outputs": [],
   "source": []
  }
 ],
 "metadata": {
  "kernelspec": {
   "display_name": "Python 3 (ipykernel)",
   "language": "python",
   "name": "python3"
  },
  "language_info": {
   "codemirror_mode": {
    "name": "ipython",
    "version": 3
   },
   "file_extension": ".py",
   "mimetype": "text/x-python",
   "name": "python",
   "nbconvert_exporter": "python",
   "pygments_lexer": "ipython3",
   "version": "3.9.12"
  }
 },
 "nbformat": 4,
 "nbformat_minor": 5
}
